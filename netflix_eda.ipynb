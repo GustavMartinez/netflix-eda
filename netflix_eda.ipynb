{
 "cells": [
  {
   "cell_type": "markdown",
   "id": "296bda6e",
   "metadata": {},
   "source": [
    "# Exploratory Data Analysis of Netflix Movies and TV Shows"
   ]
  },
  {
   "cell_type": "markdown",
   "id": "16cb5e93",
   "metadata": {},
   "source": [
    "## 1. Introduction\n",
    "\n",
    "* Purpose of the analysis (why)\n",
    "* Objectives\n",
    "* Tools: Python, pandas, matplotlib, seaborn"
   ]
  },
  {
   "cell_type": "markdown",
   "id": "1a4642a9",
   "metadata": {},
   "source": [
    "## 2. Data Overview\n",
    "\n",
    "* Load dataset (read_csv)\n",
    "* Display first rows, shape, column names\n",
    "* Identify data types, null values, duplicates"
   ]
  },
  {
   "cell_type": "code",
   "execution_count": 1,
   "id": "c87b420a",
   "metadata": {},
   "outputs": [],
   "source": [
    "# Libraries\n",
    "\n",
    "import pandas as pd\n",
    "import numpy as np\n",
    "import matplotlib.pyplot as plt\n",
    "import seaborn as sns"
   ]
  },
  {
   "cell_type": "code",
   "execution_count": 10,
   "id": "123fbd8a",
   "metadata": {},
   "outputs": [],
   "source": [
    "PATH_FILE = '/home/gustavo/Documents/Data_Carrer/04_github/netflix-eda/netflix_data.csv'\n",
    "\n",
    "df = pd.read_csv(PATH_FILE, index_col=0)"
   ]
  },
  {
   "cell_type": "code",
   "execution_count": 9,
   "id": "a4ee95af",
   "metadata": {},
   "outputs": [
    {
     "name": "stdout",
     "output_type": "stream",
     "text": [
      "<class 'pandas.core.frame.DataFrame'>\n",
      "Index: 4812 entries, s2 to s7784\n",
      "Data columns (total 10 columns):\n",
      " #   Column        Non-Null Count  Dtype \n",
      "---  ------        --------------  ----- \n",
      " 0   type          4812 non-null   object\n",
      " 1   title         4812 non-null   object\n",
      " 2   director      4812 non-null   object\n",
      " 3   cast          4812 non-null   object\n",
      " 4   country       4812 non-null   object\n",
      " 5   date_added    4812 non-null   object\n",
      " 6   release_year  4812 non-null   int64 \n",
      " 7   duration      4812 non-null   int64 \n",
      " 8   description   4812 non-null   object\n",
      " 9   genre         4812 non-null   object\n",
      "dtypes: int64(2), object(8)\n",
      "memory usage: 413.5+ KB\n"
     ]
    }
   ],
   "source": [
    "df.info()"
   ]
  },
  {
   "cell_type": "code",
   "execution_count": 12,
   "id": "d15c55dd",
   "metadata": {},
   "outputs": [
    {
     "data": {
      "text/plain": [
       "(4812, 10)"
      ]
     },
     "execution_count": 12,
     "metadata": {},
     "output_type": "execute_result"
    }
   ],
   "source": [
    "df.shape"
   ]
  },
  {
   "cell_type": "code",
   "execution_count": 11,
   "id": "36fac67d",
   "metadata": {},
   "outputs": [
    {
     "data": {
      "text/html": [
       "<div>\n",
       "<style scoped>\n",
       "    .dataframe tbody tr th:only-of-type {\n",
       "        vertical-align: middle;\n",
       "    }\n",
       "\n",
       "    .dataframe tbody tr th {\n",
       "        vertical-align: top;\n",
       "    }\n",
       "\n",
       "    .dataframe thead th {\n",
       "        text-align: right;\n",
       "    }\n",
       "</style>\n",
       "<table border=\"1\" class=\"dataframe\">\n",
       "  <thead>\n",
       "    <tr style=\"text-align: right;\">\n",
       "      <th></th>\n",
       "      <th>type</th>\n",
       "      <th>title</th>\n",
       "      <th>director</th>\n",
       "      <th>cast</th>\n",
       "      <th>country</th>\n",
       "      <th>date_added</th>\n",
       "      <th>release_year</th>\n",
       "      <th>duration</th>\n",
       "      <th>description</th>\n",
       "      <th>genre</th>\n",
       "    </tr>\n",
       "    <tr>\n",
       "      <th>show_id</th>\n",
       "      <th></th>\n",
       "      <th></th>\n",
       "      <th></th>\n",
       "      <th></th>\n",
       "      <th></th>\n",
       "      <th></th>\n",
       "      <th></th>\n",
       "      <th></th>\n",
       "      <th></th>\n",
       "      <th></th>\n",
       "    </tr>\n",
       "  </thead>\n",
       "  <tbody>\n",
       "    <tr>\n",
       "      <th>s2</th>\n",
       "      <td>Movie</td>\n",
       "      <td>7:19</td>\n",
       "      <td>Jorge Michel Grau</td>\n",
       "      <td>Demián Bichir, Héctor Bonilla, Oscar Serrano, ...</td>\n",
       "      <td>Mexico</td>\n",
       "      <td>December 23, 2016</td>\n",
       "      <td>2016</td>\n",
       "      <td>93</td>\n",
       "      <td>After a devastating earthquake hits Mexico Cit...</td>\n",
       "      <td>Dramas</td>\n",
       "    </tr>\n",
       "    <tr>\n",
       "      <th>s3</th>\n",
       "      <td>Movie</td>\n",
       "      <td>23:59</td>\n",
       "      <td>Gilbert Chan</td>\n",
       "      <td>Tedd Chan, Stella Chung, Henley Hii, Lawrence ...</td>\n",
       "      <td>Singapore</td>\n",
       "      <td>December 20, 2018</td>\n",
       "      <td>2011</td>\n",
       "      <td>78</td>\n",
       "      <td>When an army recruit is found dead, his fellow...</td>\n",
       "      <td>Horror Movies</td>\n",
       "    </tr>\n",
       "    <tr>\n",
       "      <th>s4</th>\n",
       "      <td>Movie</td>\n",
       "      <td>9</td>\n",
       "      <td>Shane Acker</td>\n",
       "      <td>Elijah Wood, John C. Reilly, Jennifer Connelly...</td>\n",
       "      <td>United States</td>\n",
       "      <td>November 16, 2017</td>\n",
       "      <td>2009</td>\n",
       "      <td>80</td>\n",
       "      <td>In a postapocalyptic world, rag-doll robots hi...</td>\n",
       "      <td>Action</td>\n",
       "    </tr>\n",
       "  </tbody>\n",
       "</table>\n",
       "</div>"
      ],
      "text/plain": [
       "          type  title           director  \\\n",
       "show_id                                    \n",
       "s2       Movie   7:19  Jorge Michel Grau   \n",
       "s3       Movie  23:59       Gilbert Chan   \n",
       "s4       Movie      9        Shane Acker   \n",
       "\n",
       "                                                      cast        country  \\\n",
       "show_id                                                                     \n",
       "s2       Demián Bichir, Héctor Bonilla, Oscar Serrano, ...         Mexico   \n",
       "s3       Tedd Chan, Stella Chung, Henley Hii, Lawrence ...      Singapore   \n",
       "s4       Elijah Wood, John C. Reilly, Jennifer Connelly...  United States   \n",
       "\n",
       "                date_added  release_year  duration  \\\n",
       "show_id                                              \n",
       "s2       December 23, 2016          2016        93   \n",
       "s3       December 20, 2018          2011        78   \n",
       "s4       November 16, 2017          2009        80   \n",
       "\n",
       "                                               description          genre  \n",
       "show_id                                                                    \n",
       "s2       After a devastating earthquake hits Mexico Cit...         Dramas  \n",
       "s3       When an army recruit is found dead, his fellow...  Horror Movies  \n",
       "s4       In a postapocalyptic world, rag-doll robots hi...         Action  "
      ]
     },
     "execution_count": 11,
     "metadata": {},
     "output_type": "execute_result"
    }
   ],
   "source": [
    "df.head(3)"
   ]
  },
  {
   "cell_type": "code",
   "execution_count": 14,
   "id": "c3412f4c",
   "metadata": {},
   "outputs": [
    {
     "name": "stdout",
     "output_type": "stream",
     "text": [
      "['type', 'title', 'director', 'cast', 'country', 'date_added', 'release_year', 'duration', 'description', 'genre']\n"
     ]
    }
   ],
   "source": [
    "list_of_columns = df.columns.to_list()\n",
    "print(list_of_columns)"
   ]
  },
  {
   "cell_type": "code",
   "execution_count": 17,
   "id": "0f9665f4",
   "metadata": {},
   "outputs": [
    {
     "data": {
      "text/html": [
       "<div>\n",
       "<style scoped>\n",
       "    .dataframe tbody tr th:only-of-type {\n",
       "        vertical-align: middle;\n",
       "    }\n",
       "\n",
       "    .dataframe tbody tr th {\n",
       "        vertical-align: top;\n",
       "    }\n",
       "\n",
       "    .dataframe thead th {\n",
       "        text-align: right;\n",
       "    }\n",
       "</style>\n",
       "<table border=\"1\" class=\"dataframe\">\n",
       "  <thead>\n",
       "    <tr style=\"text-align: right;\">\n",
       "      <th></th>\n",
       "      <th>type</th>\n",
       "      <th>title</th>\n",
       "      <th>director</th>\n",
       "      <th>cast</th>\n",
       "      <th>country</th>\n",
       "      <th>date_added</th>\n",
       "      <th>description</th>\n",
       "      <th>genre</th>\n",
       "    </tr>\n",
       "  </thead>\n",
       "  <tbody>\n",
       "    <tr>\n",
       "      <th>count</th>\n",
       "      <td>4812</td>\n",
       "      <td>4812</td>\n",
       "      <td>4812</td>\n",
       "      <td>4812</td>\n",
       "      <td>4812</td>\n",
       "      <td>4812</td>\n",
       "      <td>4812</td>\n",
       "      <td>4812</td>\n",
       "    </tr>\n",
       "    <tr>\n",
       "      <th>unique</th>\n",
       "      <td>2</td>\n",
       "      <td>4812</td>\n",
       "      <td>3615</td>\n",
       "      <td>4690</td>\n",
       "      <td>72</td>\n",
       "      <td>1292</td>\n",
       "      <td>4807</td>\n",
       "      <td>31</td>\n",
       "    </tr>\n",
       "    <tr>\n",
       "      <th>top</th>\n",
       "      <td>Movie</td>\n",
       "      <td>7:19</td>\n",
       "      <td>Raúl Campos, Jan Suter</td>\n",
       "      <td>Samuel West</td>\n",
       "      <td>United States</td>\n",
       "      <td>January 1, 2020</td>\n",
       "      <td>A young Han Solo tries to settle an old score ...</td>\n",
       "      <td>Dramas</td>\n",
       "    </tr>\n",
       "    <tr>\n",
       "      <th>freq</th>\n",
       "      <td>4677</td>\n",
       "      <td>1</td>\n",
       "      <td>18</td>\n",
       "      <td>10</td>\n",
       "      <td>1886</td>\n",
       "      <td>100</td>\n",
       "      <td>2</td>\n",
       "      <td>1343</td>\n",
       "    </tr>\n",
       "  </tbody>\n",
       "</table>\n",
       "</div>"
      ],
      "text/plain": [
       "         type title                director         cast        country  \\\n",
       "count    4812  4812                    4812         4812           4812   \n",
       "unique      2  4812                    3615         4690             72   \n",
       "top     Movie  7:19  Raúl Campos, Jan Suter  Samuel West  United States   \n",
       "freq     4677     1                      18           10           1886   \n",
       "\n",
       "             date_added                                        description  \\\n",
       "count              4812                                               4812   \n",
       "unique             1292                                               4807   \n",
       "top     January 1, 2020  A young Han Solo tries to settle an old score ...   \n",
       "freq                100                                                  2   \n",
       "\n",
       "         genre  \n",
       "count     4812  \n",
       "unique      31  \n",
       "top     Dramas  \n",
       "freq      1343  "
      ]
     },
     "execution_count": 17,
     "metadata": {},
     "output_type": "execute_result"
    }
   ],
   "source": [
    "df.describe(include='object')"
   ]
  },
  {
   "cell_type": "code",
   "execution_count": 18,
   "id": "fa9157ea",
   "metadata": {},
   "outputs": [
    {
     "data": {
      "text/plain": [
       "type\n",
       "Movie      4677\n",
       "TV Show     135\n",
       "Name: count, dtype: int64"
      ]
     },
     "execution_count": 18,
     "metadata": {},
     "output_type": "execute_result"
    }
   ],
   "source": [
    "df['type'].value_counts()"
   ]
  },
  {
   "cell_type": "markdown",
   "id": "5d9b7293",
   "metadata": {},
   "source": [
    "## 3. Data Cleaning\n",
    "\n",
    "* Handle missing values (e.g., director, cast, country)\n",
    "* Fix inconsistent data (e.g., trim spaces, unify case)\n",
    "* Convert types (e.g., date_added → datetime)\n",
    "* Remove duplicates"
   ]
  },
  {
   "cell_type": "code",
   "execution_count": 13,
   "id": "2fca8d0d",
   "metadata": {},
   "outputs": [
    {
     "data": {
      "text/plain": [
       "type            0\n",
       "title           0\n",
       "director        0\n",
       "cast            0\n",
       "country         0\n",
       "date_added      0\n",
       "release_year    0\n",
       "duration        0\n",
       "description     0\n",
       "genre           0\n",
       "dtype: int64"
      ]
     },
     "execution_count": 13,
     "metadata": {},
     "output_type": "execute_result"
    }
   ],
   "source": [
    "df.isnull().sum()"
   ]
  },
  {
   "cell_type": "code",
   "execution_count": 19,
   "id": "7a77d134",
   "metadata": {},
   "outputs": [
    {
     "data": {
      "text/plain": [
       "np.int64(0)"
      ]
     },
     "execution_count": 19,
     "metadata": {},
     "output_type": "execute_result"
    }
   ],
   "source": [
    "df.duplicated().sum()"
   ]
  },
  {
   "cell_type": "markdown",
   "id": "8c4c19d5",
   "metadata": {},
   "source": [
    "## 4. Exploratory Analysis\n",
    "\n",
    "* Explore main patterns:\n",
    "* Content type: movies vs. TV shows\n",
    "* Release year: content trend over time\n",
    "* Country: top producing countries\n",
    "* Genre: most frequent genres\n",
    "* Duration: average runtime or number of seasons\n",
    "* Include visuals: bar charts, pie charts, countplots, histograms."
   ]
  },
  {
   "cell_type": "markdown",
   "id": "f4728692",
   "metadata": {},
   "source": [
    "## 5. Insights and Observations\n",
    "\n",
    "* Key findings (e.g., “Most Netflix content is recent; USA dominates production”)\n",
    "* Highlight 3–5 interesting insights with visuals"
   ]
  },
  {
   "cell_type": "markdown",
   "id": "932b996f",
   "metadata": {},
   "source": [
    "## 6. Conclusion\n",
    "\n",
    "* Summarize the story the data tells\n",
    "* Mention possible extensions (e.g., correlation with IMDb ratings, dashboard version)"
   ]
  },
  {
   "cell_type": "markdown",
   "id": "5942451d",
   "metadata": {},
   "source": [
    "## 7. References (optional)\n",
    "\n",
    "* Dataset source (Kaggle or public link)\n",
    "* Libraries used"
   ]
  },
  {
   "cell_type": "markdown",
   "id": "4eeaa750",
   "metadata": {},
   "source": []
  }
 ],
 "metadata": {
  "kernelspec": {
   "display_name": "data_env",
   "language": "python",
   "name": "python3"
  },
  "language_info": {
   "codemirror_mode": {
    "name": "ipython",
    "version": 3
   },
   "file_extension": ".py",
   "mimetype": "text/x-python",
   "name": "python",
   "nbconvert_exporter": "python",
   "pygments_lexer": "ipython3",
   "version": "3.11.2"
  }
 },
 "nbformat": 4,
 "nbformat_minor": 5
}
