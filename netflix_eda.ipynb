{
 "cells": [
  {
   "cell_type": "markdown",
   "id": "296bda6e",
   "metadata": {},
   "source": [
    "# Exploratory Data Analysis of Netflix Movies and TV Shows"
   ]
  },
  {
   "cell_type": "code",
   "execution_count": null,
   "id": "c87b420a",
   "metadata": {},
   "outputs": [],
   "source": []
  }
 ],
 "metadata": {
  "language_info": {
   "name": "python"
  }
 },
 "nbformat": 4,
 "nbformat_minor": 5
}
